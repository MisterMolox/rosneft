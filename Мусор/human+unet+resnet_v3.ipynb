{
 "cells": [
  {
   "cell_type": "code",
   "execution_count": 0,
   "metadata": {
    "colab": {
     "base_uri": "https://localhost:8080/",
     "height": 35
    },
    "colab_type": "code",
    "executionInfo": {
     "elapsed": 3570,
     "status": "ok",
     "timestamp": 1571612907032,
     "user": {
      "displayName": "Роман Карандашов",
      "photoUrl": "",
      "userId": "09942574473329317328"
     },
     "user_tz": -180
    },
    "id": "K71MQwCtnQ-E",
    "outputId": "53fb38f1-5978-481c-fe88-f4ca3e22d36c"
   },
   "outputs": [
    {
     "name": "stderr",
     "output_type": "stream",
     "text": [
      "Using TensorFlow backend.\n"
     ]
    }
   ],
   "source": [
    "from keras.models import Model, load_model\n",
    "from keras import backend as K\n",
    "from keras.callbacks import ModelCheckpoint\n",
    "\n",
    "from keras.layers import Input, concatenate, Conv2D, MaxPooling2D \n",
    "from keras.layers import UpSampling2D, Convolution2D, ZeroPadding2D\n",
    "from keras.optimizers import Adam\n",
    "from keras.layers import Input, Conv2D, MaxPooling2D, concatenate, UpSampling2D, BatchNormalization, Add\n",
    "from keras.layers.core import Activation\n",
    "\n",
    "\n",
    "import numpy as np\n",
    "from numpy import genfromtxt\n",
    "from numpy.testing import assert_allclose\n",
    "from scipy import misc\n",
    "import matplotlib.pyplot as plt\n",
    "\n",
    "import os\n",
    "from skimage.transform import resize\n",
    "from skimage.io import imsave\n",
    "from PIL import Image\n",
    "\n",
    "def dice_coef(y_true, y_pred):\n",
    "    y_true_f = K.flatten(y_true)\n",
    "    y_pred_f = K.flatten(y_pred)\n",
    "    intersection = K.sum(y_true_f * y_pred_f)\n",
    "    return (2. * intersection + 1.0) / (K.sum(y_true_f) + K.sum(y_pred_f) + 1.0)\n",
    "\n",
    "\n",
    "def dice_coef_loss(y_true, y_pred):\n",
    "    return -dice_coef(y_true, y_pred)\n",
    "\n",
    "def Conv2D_34skipblock(filters, strides=(3, 3), activation=\"relu\", padding=\"same\"):\n",
    "    assert(isinstance(strides, tuple))\n",
    "    assert(2 == len(strides))\n",
    "\n",
    "    def f(x):\n",
    "        conv1 = Conv2D(filters, strides, padding=padding)(x)\n",
    "        batch_norm1 = BatchNormalization()(conv1)\n",
    "        act1 = Activation(activation=activation)(batch_norm1)\n",
    "        conv2 = Conv2D(filters, strides, padding=padding)(act1)\n",
    "        batch_norm2 = BatchNormalization()(conv2)\n",
    "        act2 = Activation(activation=activation)(batch_norm2)\n",
    "        add = Add()([x, act2])\n",
    "        return add\n",
    "    return f\n",
    "\n",
    "def uresnet(skip_block, image_rows, image_cols, img_channels=1):\n",
    "\n",
    "    inputs = Input((image_rows, image_cols, img_channels))\n",
    "    conv0 = Conv2D(32, (3, 3), padding='same')(inputs)\n",
    "    batch_norm0 = BatchNormalization()(conv0)\n",
    "    act0 = Activation(activation='relu')(batch_norm0)\n",
    "\n",
    "    conv1 = Conv2D(32, (3, 3), activation='relu', padding='same')(act0)\n",
    "    conv1 = skip_block(32, (3, 3), activation='relu', padding='same')(conv1)\n",
    "    conv1 = Conv2D(32, (3, 3), activation='relu', padding='same')(conv1)\n",
    "    conv1 = skip_block(32, (3, 3), activation='relu', padding='same')(conv1)\n",
    "    pool1 = MaxPooling2D(pool_size=(2, 2))(conv1)\n",
    "\n",
    "    conv2 = Conv2D(64, (3, 3), activation='relu', padding='same')(pool1)\n",
    "    conv2 = skip_block(64, (3, 3), activation='relu', padding='same')(conv2)\n",
    "    conv2 = Conv2D(64, (3, 3), activation='relu', padding='same')(conv2)\n",
    "    conv2 = skip_block(64, (3, 3), activation='relu', padding='same')(conv2)\n",
    "    pool2 = MaxPooling2D(pool_size=(2, 2))(conv2)\n",
    "\n",
    "    conv3 = Conv2D(128, (3, 3), activation='relu', padding='same')(pool2)\n",
    "    conv3 = skip_block(128, (3, 3), activation='relu', padding='same')(conv3)\n",
    "    conv3 = Conv2D(128, (3, 3), activation='relu', padding='same')(conv3)\n",
    "    conv3 = skip_block(128, (3, 3), activation='relu', padding='same')(conv3)\n",
    "    pool3 = MaxPooling2D(pool_size=(2, 2))(conv3)\n",
    "\n",
    "    conv4 = Conv2D(256, (3, 3), activation='relu', padding='same')(pool3)\n",
    "    conv4 = skip_block(256, (3, 3), activation='relu', padding='same')(conv4)\n",
    "    conv4 = Conv2D(256, (3, 3), activation='relu', padding='same')(conv4)\n",
    "    conv4 = skip_block(256, (3, 3), activation='relu', padding='same')(conv4)\n",
    "    pool4 = MaxPooling2D(pool_size=(2, 2))(conv4)\n",
    "\n",
    "    conv5 = Conv2D(512, (3, 3), activation='relu', padding='same')(pool4)\n",
    "    conv5 = skip_block(512, (3, 3), activation='relu', padding='same')(conv5)\n",
    "    conv5 = Conv2D(512, (3, 3), activation='relu', padding='same')(conv5)\n",
    "    conv5 = skip_block(512, (3, 3), activation='relu', padding='same')(conv5)\n",
    "\n",
    "    up6 = concatenate([UpSampling2D(size=(2, 2))(conv5), conv4], axis=3)\n",
    "    conv6 = Conv2D(256, (3, 3), activation='relu', padding='same')(up6)\n",
    "    conv6 = skip_block(256, (3, 3), activation='relu', padding='same')(conv6)\n",
    "    conv6 = Conv2D(256, (3, 3), activation='relu', padding='same')(conv6)\n",
    "    conv6 = skip_block(256, (3, 3), activation='relu', padding='same')(conv6)\n",
    "    \n",
    "    up7 = concatenate([UpSampling2D(size=(2, 2))(conv6), conv3], axis=3)\n",
    "    conv7 = Conv2D(128, (3, 3), activation='relu', padding='same')(up7)\n",
    "    conv7 = skip_block(128, (3, 3), activation='relu', padding='same')(conv7)\n",
    "    conv7 = Conv2D(128, (3, 3), activation='relu', padding='same')(conv7)\n",
    "    conv7 = skip_block(128, (3, 3), activation='relu', padding='same')(conv7)\n",
    "\n",
    "    up8 = concatenate([UpSampling2D(size=(2, 2))(conv7), conv2], axis=3)\n",
    "    conv8 = Conv2D(64, (3, 3), activation='relu', padding='same')(up8)\n",
    "    conv8 = skip_block(64, (3, 3), activation='relu', padding='same')(conv8)\n",
    "    conv8 = Conv2D(64, (3, 3), activation='relu', padding='same')(conv8)\n",
    "    conv8 = skip_block(64, (3, 3), activation='relu', padding='same')(conv8)\n",
    "\n",
    "    up9 = concatenate([UpSampling2D(size=(2, 2))(conv8), conv1], axis=3)\n",
    "    conv9 = Conv2D(32, (3, 3), activation='relu', padding='same')(up9)\n",
    "    conv9 = skip_block(32, (3, 3), activation='relu', padding='same')(conv9)\n",
    "    conv9 = Conv2D(32, (3, 3), activation='relu', padding='same')(conv9)\n",
    "    conv9 = skip_block(32, (3, 3), activation='relu', padding='same')(conv9)\n",
    "\n",
    "    conv10 = Conv2D(1, (1, 1), activation='sigmoid')(conv9)\n",
    "\n",
    "    model = Model(inputs=[inputs], outputs=[conv10])\n",
    "        \n",
    "    model.compile(optimizer=Adam(lr=1e-5), loss=dice_coef_loss, metrics=[dice_coef])\n",
    "\n",
    "    return model"
   ]
  },
  {
   "cell_type": "code",
   "execution_count": 0,
   "metadata": {
    "colab": {
     "base_uri": "https://localhost:8080/",
     "height": 129
    },
    "colab_type": "code",
    "executionInfo": {
     "elapsed": 22261,
     "status": "ok",
     "timestamp": 1571612991680,
     "user": {
      "displayName": "Роман Карандашов",
      "photoUrl": "",
      "userId": "09942574473329317328"
     },
     "user_tz": -180
    },
    "id": "BWwDcAgAriFQ",
    "outputId": "6916bb1c-60a7-49e1-f990-047b0f5021d2"
   },
   "outputs": [
    {
     "name": "stdout",
     "output_type": "stream",
     "text": [
      "Go to this URL in a browser: https://accounts.google.com/o/oauth2/auth?client_id=947318989803-6bn6qk8qdgf4n4g3pfee6491hc0brc4i.apps.googleusercontent.com&redirect_uri=urn%3Aietf%3Awg%3Aoauth%3A2.0%3Aoob&scope=email%20https%3A%2F%2Fwww.googleapis.com%2Fauth%2Fdocs.test%20https%3A%2F%2Fwww.googleapis.com%2Fauth%2Fdrive%20https%3A%2F%2Fwww.googleapis.com%2Fauth%2Fdrive.photos.readonly%20https%3A%2F%2Fwww.googleapis.com%2Fauth%2Fpeopleapi.readonly&response_type=code\n",
      "\n",
      "Enter your authorization code:\n",
      "··········\n",
      "Mounted at /content/drive\n"
     ]
    }
   ],
   "source": [
    "K.set_image_data_format('channels_last')\n",
    "\n",
    "NB_EPOCH = 40\n",
    "BATCH_SIZE = 10\n",
    "VERBOSE = 1\n",
    "VALIDATION_SPLIT = 0.2\n",
    "OPTIMIZER = Adam()\n",
    "IMG_ROWS, IMG_COLS, IMG_CHANNELS = 320, 240, 1\n",
    "INPUT_SHAPE = (IMG_ROWS, IMG_COLS, IMG_CHANNELS)\n",
    "\n",
    "Train = 1314\n",
    "Valid = 145\n",
    "\n",
    "x_train = []\n",
    "y_train = []\n",
    "\n",
    "x_valid = []\n",
    "y_valid = []\n",
    "\n",
    "from google.colab import drive\n",
    "drive.mount('/content/drive')\n",
    "\n",
    "path = os.getcwd()+'people\\\\'"
   ]
  },
  {
   "cell_type": "code",
   "execution_count": 0,
   "metadata": {
    "colab": {
     "base_uri": "https://localhost:8080/",
     "height": 348
    },
    "colab_type": "code",
    "executionInfo": {
     "elapsed": 818840,
     "status": "ok",
     "timestamp": 1571613833088,
     "user": {
      "displayName": "Роман Карандашов",
      "photoUrl": "",
      "userId": "09942574473329317328"
     },
     "user_tz": -180
    },
    "id": "8SGPArNArsNi",
    "outputId": "457bba15-c47d-48a0-dde5-14af9839bc7c"
   },
   "outputs": [
    {
     "name": "stdout",
     "output_type": "stream",
     "text": [
      "__________LOAD TRAIN DATA__________\n",
      "0  %\n",
      "10  %\n",
      "20  %\n",
      "30  %\n",
      "40  %\n",
      "50  %\n",
      "60  %\n",
      "70  %\n",
      "80  %\n",
      "90  %\n",
      "100  %\n",
      "__________END LOAD TRAIN DATA__________\n",
      "__________LOAD VALID DATA__________\n",
      "\n",
      "__________END LOAD VALID DATA__________\n",
      "__________STAR PREPROCCECING__________\n",
      "__________END PREPROCCECING__________\n"
     ]
    }
   ],
   "source": [
    "print('__________LOAD TRAIN DATA__________')\n",
    "for i in range(1315):\n",
    "  x_train.append((np.array(Image.open('/content/drive/My Drive/Colab Notebooks/people/train/'+str(i)+'.jpg'))).dot([0.299, 0.587, 0.114]))\n",
    "  y_train.append(np.array(Image.open('/content/drive/My Drive/Colab Notebooks/people/train_mask/'+str(i)+'.png'))) \n",
    "  if i%130==0: print(i//13,' %')\n",
    "print('__________END LOAD TRAIN DATA__________') \n",
    "\n",
    "print('__________LOAD VALID DATA__________')\n",
    "for i in range(145):\n",
    "  x_valid.append((np.array(Image.open('/content/drive/My Drive/Colab Notebooks/people/valid/'+str(1315+i)+'.jpg'))).dot([0.299, 0.587, 0.114]))\n",
    "  y_valid.append(np.array(Image.open('/content/drive/My Drive/Colab Notebooks/people/valid_mask/'+str(1315+i)+'.png')))\n",
    "print('\\n__________END LOAD VALID DATA__________')\n",
    "\n",
    "print('__________STAR PREPROCCECING__________')\n",
    "\n",
    "x_train = np.array(x_train)\n",
    "x_train = x_train.astype('float32')\n",
    "x_train -= x_train.mean()\n",
    "x_train /= x_train.std()\n",
    "x_train = x_train[:, :, :, np.newaxis]\n",
    "\n",
    "\n",
    "y_train = np.array(y_train)\n",
    "y_train = y_train.astype('float32')\n",
    "y_train /= 255\n",
    "y_train = y_train[:, :, :, np.newaxis]\n",
    "\n",
    "\n",
    "x_valid = np.array(x_valid)\n",
    "x_valid = x_valid.astype('float32')\n",
    "x_valid -= x_valid.mean()\n",
    "x_valid /= x_valid.std()\n",
    "x_valid = x_valid[:, :, :, np.newaxis]\n",
    "\n",
    "\n",
    "y_valid = np.array(y_valid)\n",
    "y_valid = y_valid.astype('float32')\n",
    "y_valid /= 255\n",
    "y_valid = y_valid[:, :, :, np.newaxis]\n",
    "print('__________END PREPROCCECING__________')"
   ]
  },
  {
   "cell_type": "code",
   "execution_count": 0,
   "metadata": {
    "colab": {
     "base_uri": "https://localhost:8080/",
     "height": 1000
    },
    "colab_type": "code",
    "executionInfo": {
     "elapsed": 7526653,
     "status": "ok",
     "timestamp": 1571625537931,
     "user": {
      "displayName": "Роман Карандашов",
      "photoUrl": "",
      "userId": "09942574473329317328"
     },
     "user_tz": -180
    },
    "id": "SUi7RxCCrvTs",
    "outputId": "4f9401a8-cf9c-45b0-e84f-e466ab693d9c"
   },
   "outputs": [
    {
     "name": "stdout",
     "output_type": "stream",
     "text": [
      "Train on 1052 samples, validate on 263 samples\n",
      "Epoch 1/40\n",
      "1052/1052 [==============================] - 198s 188ms/step - loss: -0.7199 - dice_coef: 0.7199 - val_loss: -0.8079 - val_dice_coef: 0.8079\n",
      "Epoch 2/40\n",
      "1052/1052 [==============================] - 186s 177ms/step - loss: -0.8518 - dice_coef: 0.8518 - val_loss: -0.8260 - val_dice_coef: 0.8260\n",
      "Epoch 3/40\n",
      "1052/1052 [==============================] - 186s 177ms/step - loss: -0.8707 - dice_coef: 0.8707 - val_loss: -0.8653 - val_dice_coef: 0.8653\n",
      "Epoch 4/40\n",
      "1052/1052 [==============================] - 186s 177ms/step - loss: -0.8775 - dice_coef: 0.8775 - val_loss: -0.8916 - val_dice_coef: 0.8916\n",
      "Epoch 5/40\n",
      "1052/1052 [==============================] - 186s 177ms/step - loss: -0.8872 - dice_coef: 0.8872 - val_loss: -0.8909 - val_dice_coef: 0.8909\n",
      "Epoch 6/40\n",
      "1052/1052 [==============================] - 186s 177ms/step - loss: -0.8935 - dice_coef: 0.8935 - val_loss: -0.8797 - val_dice_coef: 0.8797\n",
      "Epoch 7/40\n",
      "1052/1052 [==============================] - 186s 177ms/step - loss: -0.8990 - dice_coef: 0.8990 - val_loss: -0.9005 - val_dice_coef: 0.9005\n",
      "Epoch 8/40\n",
      "1052/1052 [==============================] - 186s 177ms/step - loss: -0.9040 - dice_coef: 0.9040 - val_loss: -0.8906 - val_dice_coef: 0.8906\n",
      "Epoch 9/40\n",
      "1052/1052 [==============================] - 186s 177ms/step - loss: -0.9071 - dice_coef: 0.9071 - val_loss: -0.8890 - val_dice_coef: 0.8890\n",
      "Epoch 10/40\n",
      "1052/1052 [==============================] - 186s 177ms/step - loss: -0.9149 - dice_coef: 0.9149 - val_loss: -0.8838 - val_dice_coef: 0.8838\n",
      "Epoch 11/40\n",
      "1052/1052 [==============================] - 186s 177ms/step - loss: -0.9175 - dice_coef: 0.9175 - val_loss: -0.9100 - val_dice_coef: 0.9100\n",
      "Epoch 12/40\n",
      "1052/1052 [==============================] - 186s 176ms/step - loss: -0.9219 - dice_coef: 0.9219 - val_loss: -0.8480 - val_dice_coef: 0.8480\n",
      "Epoch 13/40\n",
      "1052/1052 [==============================] - 186s 176ms/step - loss: -0.9251 - dice_coef: 0.9251 - val_loss: -0.8725 - val_dice_coef: 0.8725\n",
      "Epoch 14/40\n",
      "1052/1052 [==============================] - 185s 176ms/step - loss: -0.9286 - dice_coef: 0.9286 - val_loss: -0.9191 - val_dice_coef: 0.9191\n",
      "Epoch 15/40\n",
      "1052/1052 [==============================] - 186s 176ms/step - loss: -0.9332 - dice_coef: 0.9332 - val_loss: -0.9048 - val_dice_coef: 0.9048\n",
      "Epoch 16/40\n",
      "1052/1052 [==============================] - 185s 176ms/step - loss: -0.9335 - dice_coef: 0.9335 - val_loss: -0.8383 - val_dice_coef: 0.8383\n",
      "Epoch 17/40\n",
      "1052/1052 [==============================] - 186s 176ms/step - loss: -0.9381 - dice_coef: 0.9381 - val_loss: -0.9214 - val_dice_coef: 0.9214\n",
      "Epoch 18/40\n",
      "1052/1052 [==============================] - 186s 176ms/step - loss: -0.9399 - dice_coef: 0.9399 - val_loss: -0.9179 - val_dice_coef: 0.9179\n",
      "Epoch 19/40\n",
      "1052/1052 [==============================] - 186s 176ms/step - loss: -0.9397 - dice_coef: 0.9397 - val_loss: -0.9174 - val_dice_coef: 0.9174\n",
      "Epoch 20/40\n",
      "1052/1052 [==============================] - 186s 176ms/step - loss: -0.9455 - dice_coef: 0.9455 - val_loss: -0.9250 - val_dice_coef: 0.9250\n",
      "Epoch 21/40\n",
      "1052/1052 [==============================] - 185s 176ms/step - loss: -0.9476 - dice_coef: 0.9476 - val_loss: -0.9176 - val_dice_coef: 0.9176\n",
      "Epoch 22/40\n",
      "1052/1052 [==============================] - 186s 176ms/step - loss: -0.9490 - dice_coef: 0.9490 - val_loss: -0.9196 - val_dice_coef: 0.9196\n",
      "Epoch 23/40\n",
      "1052/1052 [==============================] - 185s 176ms/step - loss: -0.9510 - dice_coef: 0.9510 - val_loss: -0.9298 - val_dice_coef: 0.9298\n",
      "Epoch 24/40\n",
      "1052/1052 [==============================] - 186s 177ms/step - loss: -0.9512 - dice_coef: 0.9512 - val_loss: -0.9097 - val_dice_coef: 0.9097\n",
      "Epoch 25/40\n",
      "1052/1052 [==============================] - 186s 176ms/step - loss: -0.9511 - dice_coef: 0.9511 - val_loss: -0.9197 - val_dice_coef: 0.9197\n",
      "Epoch 26/40\n",
      "1052/1052 [==============================] - 186s 177ms/step - loss: -0.9563 - dice_coef: 0.9563 - val_loss: -0.9112 - val_dice_coef: 0.9112\n",
      "Epoch 27/40\n",
      "1052/1052 [==============================] - 187s 177ms/step - loss: -0.9558 - dice_coef: 0.9558 - val_loss: -0.9240 - val_dice_coef: 0.9240\n",
      "Epoch 28/40\n",
      "1052/1052 [==============================] - 187s 178ms/step - loss: -0.9588 - dice_coef: 0.9588 - val_loss: -0.9278 - val_dice_coef: 0.9278\n",
      "Epoch 29/40\n",
      "1052/1052 [==============================] - 187s 178ms/step - loss: -0.9583 - dice_coef: 0.9583 - val_loss: -0.9228 - val_dice_coef: 0.9228\n",
      "Epoch 30/40\n",
      "1052/1052 [==============================] - 187s 178ms/step - loss: -0.9595 - dice_coef: 0.9595 - val_loss: -0.9189 - val_dice_coef: 0.9189\n",
      "Epoch 31/40\n",
      "1052/1052 [==============================] - 187s 177ms/step - loss: -0.9618 - dice_coef: 0.9618 - val_loss: -0.9271 - val_dice_coef: 0.9271\n",
      "Epoch 32/40\n",
      "1052/1052 [==============================] - 187s 178ms/step - loss: -0.9638 - dice_coef: 0.9638 - val_loss: -0.9275 - val_dice_coef: 0.9275\n",
      "Epoch 33/40\n",
      "1052/1052 [==============================] - 186s 177ms/step - loss: -0.9638 - dice_coef: 0.9638 - val_loss: -0.9264 - val_dice_coef: 0.9264\n",
      "Epoch 34/40\n",
      "1052/1052 [==============================] - 185s 176ms/step - loss: -0.9649 - dice_coef: 0.9649 - val_loss: -0.9283 - val_dice_coef: 0.9283\n",
      "Epoch 35/40\n",
      "1052/1052 [==============================] - 186s 176ms/step - loss: -0.9667 - dice_coef: 0.9667 - val_loss: -0.9280 - val_dice_coef: 0.9280\n",
      "Epoch 36/40\n",
      "1052/1052 [==============================] - 185s 176ms/step - loss: -0.9678 - dice_coef: 0.9678 - val_loss: -0.9174 - val_dice_coef: 0.9174\n",
      "Epoch 37/40\n",
      "1052/1052 [==============================] - 185s 176ms/step - loss: -0.9686 - dice_coef: 0.9686 - val_loss: -0.9292 - val_dice_coef: 0.9292\n",
      "Epoch 38/40\n",
      "1052/1052 [==============================] - 185s 176ms/step - loss: -0.9695 - dice_coef: 0.9695 - val_loss: -0.8937 - val_dice_coef: 0.8937\n",
      "Epoch 39/40\n",
      "1052/1052 [==============================] - 187s 177ms/step - loss: -0.9702 - dice_coef: 0.9702 - val_loss: -0.9256 - val_dice_coef: 0.9256\n",
      "Epoch 40/40\n",
      "1052/1052 [==============================] - 187s 177ms/step - loss: -0.9710 - dice_coef: 0.9710 - val_loss: -0.9272 - val_dice_coef: 0.9272\n",
      "145/145 [==============================] - 10s 70ms/step\n"
     ]
    },
    {
     "data": {
      "image/png": "[encoded data removed]",
      "text/plain": [
       "<Figure size 432x288 with 1 Axes>"
      ]
     },
     "metadata": {
      "tags": []
     },
     "output_type": "display_data"
    }
   ],
   "source": [
    "model = uresnet(Conv2D_34skipblock, IMG_ROWS, IMG_COLS, IMG_CHANNELS)\n",
    "\n",
    "model_checkpoint = ModelCheckpoint('foto_weights.h5', monitor='val_loss', save_best_only=True)\n",
    "history = model.fit(x_train, y_train, batch_size=BATCH_SIZE, epochs=NB_EPOCH, verbose=VERBOSE, \n",
    "                    shuffle=True, validation_split=VALIDATION_SPLIT, callbacks=[model_checkpoint])\n",
    "\n",
    "score = model.evaluate(x_valid, y_valid, batch_size=BATCH_SIZE, verbose=VERBOSE)\n",
    "\n",
    "plt.plot(history.history['dice_coef'])\n",
    "plt.plot(history.history['val_dice_coef'])\n",
    "plt.title('model accuracy')\n",
    "plt.ylabel('dice_coef')\n",
    "plt.xlabel('epoch')\n",
    "plt.legend(['train', 'validation'], loc = 'upper left')\n",
    "plt.show()"
   ]
  }
 ],
 "metadata": {
  "accelerator": "GPU",
  "colab": {
   "collapsed_sections": [],
   "name": "human+unet+resnet_v3.ipynb",
   "provenance": [
    {
     "file_id": "144C0QJG2vjeSL9dnaGcmTO06Nr7H71AS",
     "timestamp": 1571652980973
    }
   ]
  },
  "kernelspec": {
   "display_name": "Python 3",
   "language": "python",
   "name": "python3"
  },
  "language_info": {
   "codemirror_mode": {
    "name": "ipython",
    "version": 3
   },
   "file_extension": ".py",
   "mimetype": "text/x-python",
   "name": "python",
   "nbconvert_exporter": "python",
   "pygments_lexer": "ipython3",
   "version": "3.6.5"
  }
 },
 "nbformat": 4,
 "nbformat_minor": 1
}
