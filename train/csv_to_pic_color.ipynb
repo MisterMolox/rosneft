{
 "cells": [
  {
   "cell_type": "code",
   "execution_count": 1,
   "metadata": {
    "colab": {},
    "colab_type": "code",
    "id": "LF6Msn7gHnsK"
   },
   "outputs": [],
   "source": [
    "import numpy as np                                     # Numpy 1.15.4\n",
    "import pandas as pd                                    # Pandas 0.23.4\n",
    "import csv                                             # CSV 1.0\n",
    "import os                                              # \n",
    "from utils import mask2rle, rle2mask                   # Decoder csv to picture\n",
    "from skimage.io import imsave                          # \n",
    "\n",
    "from IPython.display import clear_output"
   ]
  },
  {
   "cell_type": "code",
   "execution_count": 2,
   "metadata": {},
   "outputs": [],
   "source": [
    "def save_img(img_id, filename):\n",
    "    img = np.zeros((384, 384, 3), dtype=np.uint8)\n",
    "    msk_sum = np.zeros((384, 384), dtype=np.uint8)     # for the last class\n",
    "\n",
    "    colors = [                                         # palette\n",
    "        np.array([255, 255, 255], dtype=np.uint8),\n",
    "        np.array([255, 0, 0], dtype=np.uint8),\n",
    "        np.array([0, 255, 0], dtype=np.uint8),\n",
    "        np.array([0, 0, 255], dtype=np.uint8),\n",
    "        np.array([255, 255, 0], dtype=np.uint8),\n",
    "        np.array([255, 0, 255], dtype=np.uint8),\n",
    "        np.array([0, 255, 255], dtype=np.uint8),\n",
    "        np.array([127, 127, 127], dtype=np.uint8),\n",
    "    ]\n",
    "    colors = [color.reshape(1, 1, 3) for color in colors]\n",
    "\n",
    "    for class_id in range(7):\n",
    "        msk = rle2mask(\n",
    "            \" \".join(\n",
    "                data[data['ImageId'] == img_id][data[data['ImageId'] == img_id][\"ClassId\"] == class_id][\"EncodedPixels\"]\n",
    "            ),\n",
    "            (384, 384)\n",
    "        )\n",
    "        msk_sum += msk.astype(np.uint8)\n",
    "        img += msk.reshape((384, 384, 1)) * colors[class_id]\n",
    "    img += (1 - msk_sum.reshape((384, 384, 1))) * colors[7]\n",
    "\n",
    "    imsave(filename, img)"
   ]
  },
  {
   "cell_type": "code",
   "execution_count": 3,
   "metadata": {
    "colab": {},
    "colab_type": "code",
    "id": "8mFNQaBeHnsP",
    "scrolled": true
   },
   "outputs": [],
   "source": [
    "data = pd.read_csv(\"train_masks.csv\")"
   ]
  },
  {
   "cell_type": "code",
   "execution_count": null,
   "metadata": {},
   "outputs": [
    {
     "name": "stdout",
     "output_type": "stream",
     "text": [
      "xline_2293.png\n"
     ]
    }
   ],
   "source": [
    "processed = set()\n",
    "\n",
    "for img_id in data['ImageId']:\n",
    "    if img_id in processed:\n",
    "        continue\n",
    "    processed.add(img_id)\n",
    "    print(img_id)\n",
    "    filename = \"train_pics_color/\" + img_id\n",
    "    save_img(img_id, filename)\n",
    "    clear_output(wait=True)"
   ]
  },
  {
   "cell_type": "raw",
   "metadata": {},
   "source": [
    "i = 0\n",
    "for img_id in data['ImageId']:\n",
    "    if img_id.startswith(\"inline_\"):\n",
    "        i += 1\n",
    "print(i)"
   ]
  },
  {
   "cell_type": "raw",
   "metadata": {},
   "source": [
    "data[data['ImageId'] == \"inline_3465.png\"][data[data['ImageId'] == \"inline_3465.png\"][\"ClassId\"] == 0][\"EncodedPixels\"][0]"
   ]
  },
  {
   "cell_type": "raw",
   "metadata": {},
   "source": [
    "\" \".join(data[data['ImageId'] == img_id][data[data['ImageId'] == img_id][\"ClassId\"] == 0][\"EncodedPixels\"])"
   ]
  },
  {
   "cell_type": "raw",
   "metadata": {},
   "source": [
    "img_id = \"inline_3160.png\""
   ]
  },
  {
   "cell_type": "raw",
   "metadata": {
    "colab": {},
    "colab_type": "code",
    "id": "8C45jsKXHnsS",
    "outputId": "56c1f47e-3722-4d8b-9609-4f2056692f6d"
   },
   "source": [
    "for class_id in range(7):\n",
    "    msk = rle2mask(\n",
    "        data[data['ImageId'] == img_id][data[data['ImageId'] == img_id][\"ClassId\"] == class_id][\"EncodedPixels\"][class_id],\n",
    "        (384, 384)\n",
    "    )\n",
    "    msk_sum += msk.astype(np.uint8)\n",
    "    img += msk.reshape((384, 384, 1)) * colors[class_id]\n",
    "img += (1 - msk_sum.reshape((384, 384, 1))) * colors[7]"
   ]
  },
  {
   "cell_type": "raw",
   "metadata": {},
   "source": [
    "imsave('Image.png', img) "
   ]
  },
  {
   "cell_type": "raw",
   "metadata": {},
   "source": [
    "msk"
   ]
  },
  {
   "cell_type": "raw",
   "metadata": {},
   "source": [
    "imsave()"
   ]
  }
 ],
 "metadata": {
  "colab": {
   "name": "csv_to_pic.ipynb",
   "provenance": []
  },
  "kernelspec": {
   "display_name": "Python 3",
   "language": "python",
   "name": "python3"
  },
  "language_info": {
   "codemirror_mode": {
    "name": "ipython",
    "version": 3
   },
   "file_extension": ".py",
   "mimetype": "text/x-python",
   "name": "python",
   "nbconvert_exporter": "python",
   "pygments_lexer": "ipython3",
   "version": "3.6.5"
  }
 },
 "nbformat": 4,
 "nbformat_minor": 1
}
