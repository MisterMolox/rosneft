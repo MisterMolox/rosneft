{
 "cells": [
  {
   "cell_type": "code",
   "execution_count": 5,
   "metadata": {},
   "outputs": [],
   "source": [
    "import numpy as np\n",
    "from PIL import Image\n",
    "from skimage.io import imsave\n",
    "\n",
    "number = '3160'\n",
    "img_name = 'inline_' + number + '.png'\n",
    "\n",
    "img = np.array(Image.open('train/images/' + img_name))\n",
    "\n",
    "bord6 = np.array(Image.open('train/answer/6_border/' + img_name))\n",
    "bord5 = np.array(Image.open('train/answer/5_border/' + img_name))\n",
    "bord4 = np.array(Image.open('train/answer/4_border/' + img_name))\n",
    "bord3 = np.array(Image.open('train/answer/3_border/' + img_name))\n",
    "bord2 = np.array(Image.open('train/answer/2_border/' + img_name))\n",
    "bord1 = np.array(Image.open('train/answer/1_border/' + img_name))\n",
    "bord0 = np.array(Image.open('train/answer/0_border/' + img_name))\n",
    "\n",
    "for i in range(384):\n",
    "    for j in range(384):\n",
    "        if bord6[i][j] == 255:\n",
    "            img[i][j][0] = 0\n",
    "            img[i][j][1] = 0\n",
    "            img[i][j][2] = 255\n",
    "            \n",
    "        if bord5[i][j] == 255:\n",
    "            img[i][j][0] = 0\n",
    "            img[i][j][1] = 255\n",
    "            img[i][j][2] = 0\n",
    "            \n",
    "        if bord4[i][j] == 255:\n",
    "            img[i][j][0] = 255\n",
    "            img[i][j][1] = 0\n",
    "            img[i][j][2] = 0\n",
    "            \n",
    "        if bord3[i][j] == 255:\n",
    "            img[i][j][0] = 0\n",
    "            img[i][j][1] = 255\n",
    "            img[i][j][2] = 255\n",
    "            \n",
    "        if bord2[i][j] == 255:\n",
    "            img[i][j][0] = 255\n",
    "            img[i][j][1] = 0\n",
    "            img[i][j][2] = 255\n",
    "            \n",
    "        if bord1[i][j] == 255:\n",
    "            img[i][j][0] = 255\n",
    "            img[i][j][1] = 255\n",
    "            img[i][j][2] = 0\n",
    "            \n",
    "        if bord1[i][j] == 255:\n",
    "            img[i][j][0] = 128\n",
    "            img[i][j][1] = 0\n",
    "            img[i][j][2] = 0\n",
    "\n",
    "imsave('Example' + number + '.png',img)"
   ]
  }
 ],
 "metadata": {
  "kernelspec": {
   "display_name": "Python 3",
   "language": "python",
   "name": "python3"
  },
  "language_info": {
   "codemirror_mode": {
    "name": "ipython",
    "version": 3
   },
   "file_extension": ".py",
   "mimetype": "text/x-python",
   "name": "python",
   "nbconvert_exporter": "python",
   "pygments_lexer": "ipython3",
   "version": "3.6.5"
  }
 },
 "nbformat": 4,
 "nbformat_minor": 2
}
