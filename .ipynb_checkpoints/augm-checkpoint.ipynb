{
 "cells": [
  {
   "cell_type": "code",
   "execution_count": 0,
   "metadata": {
    "colab": {},
    "colab_type": "code",
    "id": "rlovDOdj-j8P"
   },
   "outputs": [],
   "source": [
    "import os\n",
    "import numpy as np\n",
    "from google.colab import drive\n",
    "\n",
    "import matplotlib.pyplot as plt"
   ]
  },
  {
   "cell_type": "code",
   "execution_count": 5,
   "metadata": {
    "colab": {
     "base_uri": "https://localhost:8080/",
     "height": 34
    },
    "colab_type": "code",
    "executionInfo": {
     "elapsed": 601,
     "status": "ok",
     "timestamp": 1572108790456,
     "user": {
      "displayName": "Руслан Рашитович Юсупов",
      "photoUrl": "",
      "userId": "11159266420877563441"
     },
     "user_tz": -180
    },
    "id": "tdDBk0dc-yAw",
    "outputId": "b1b8d03b-14ca-4246-f202-c377facda80a"
   },
   "outputs": [
    {
     "name": "stdout",
     "output_type": "stream",
     "text": [
      "Drive already mounted at /content/drive; to attempt to forcibly remount, call drive.mount(\"/content/drive\", force_remount=True).\n"
     ]
    }
   ],
   "source": [
    "drive.mount(\"/content/drive\")"
   ]
  },
  {
   "cell_type": "code",
   "execution_count": 0,
   "metadata": {
    "colab": {},
    "colab_type": "code",
    "id": "S--t75_o_qAz"
   },
   "outputs": [],
   "source": [
    "path = \"./drive/My Drive/Rosneft Seismic/train\""
   ]
  },
  {
   "cell_type": "code",
   "execution_count": 0,
   "metadata": {
    "colab": {},
    "colab_type": "code",
    "id": "xJdYaPuj_HM9"
   },
   "outputs": [],
   "source": [
    "x_train = np.load(f\"{path}/x_train.npy\")\n",
    "y_train = np.load(f\"{path}/y_train.npy\")"
   ]
  },
  {
   "cell_type": "code",
   "execution_count": 0,
   "metadata": {
    "colab": {},
    "colab_type": "code",
    "id": "I430KoQ3OI04"
   },
   "outputs": [],
   "source": [
    "def borders(mask):\n",
    "    rows, cols = mask.shape\n",
    "    up = np.zeros((cols,))\n",
    "    down = np.zeros((cols,))\n",
    "\n",
    "    for j in range(cols):\n",
    "        i_up = rows - 1\n",
    "        i_down = 0\n",
    "        for i in range(rows):\n",
    "            if mask[i, j] > 0:\n",
    "                if i_up > i:\n",
    "                    i_up = i\n",
    "                if i_down < i:\n",
    "                    i_down = i\n",
    "        up[j] = i_up\n",
    "        down[j] = i_down\n",
    "\n",
    "    return up, down"
   ]
  },
  {
   "cell_type": "code",
   "execution_count": 23,
   "metadata": {
    "colab": {
     "base_uri": "https://localhost:8080/",
     "height": 34
    },
    "colab_type": "code",
    "executionInfo": {
     "elapsed": 590,
     "status": "ok",
     "timestamp": 1572109208717,
     "user": {
      "displayName": "Руслан Рашитович Юсупов",
      "photoUrl": "",
      "userId": "11159266420877563441"
     },
     "user_tz": -180
    },
    "id": "zx_VM_QpAMXw",
    "outputId": "67b33aea-4ea0-4d43-da40-87f197469ab4"
   },
   "outputs": [
    {
     "data": {
      "text/plain": [
       "((512, 384, 384, 1), (512, 384, 384, 8))"
      ]
     },
     "execution_count": 23,
     "metadata": {
      "tags": []
     },
     "output_type": "execute_result"
    }
   ],
   "source": [
    "x_train.shape, y_train.shape"
   ]
  },
  {
   "cell_type": "code",
   "execution_count": 0,
   "metadata": {
    "colab": {},
    "colab_type": "code",
    "id": "pM_AASM5AtkG"
   },
   "outputs": [],
   "source": [
    "img = x_train[0, :, :, 0]"
   ]
  },
  {
   "cell_type": "code",
   "execution_count": 0,
   "metadata": {
    "colab": {},
    "colab_type": "code",
    "id": "6oJyN5fyA68J"
   },
   "outputs": [],
   "source": [
    "rows, cols = img.shape"
   ]
  },
  {
   "cell_type": "code",
   "execution_count": 51,
   "metadata": {
    "colab": {
     "base_uri": "https://localhost:8080/",
     "height": 34
    },
    "colab_type": "code",
    "executionInfo": {
     "elapsed": 603,
     "status": "ok",
     "timestamp": 1572110708024,
     "user": {
      "displayName": "Руслан Рашитович Юсупов",
      "photoUrl": "",
      "userId": "11159266420877563441"
     },
     "user_tz": -180
    },
    "id": "X7Hw81-ICKZj",
    "outputId": "7ab6132c-4a33-4974-eee7-96358a960441"
   },
   "outputs": [
    {
     "name": "stdout",
     "output_type": "stream",
     "text": [
      "315 365 50\n"
     ]
    }
   ],
   "source": [
    "lim_down = rows // 10\n",
    "lim_up = rows // 4\n",
    "\n",
    "left = np.random.randint(0, cols - lim_down)\n",
    "width = np.random.randint(0, min(lim_up - lim_down, cols - left - lim_down)) + lim_down\n",
    "right = left + width\n",
    "\n",
    "print(left, right, width)"
   ]
  },
  {
   "cell_type": "code",
   "execution_count": 0,
   "metadata": {
    "colab": {},
    "colab_type": "code",
    "id": "Tk08XhQ8ODMM"
   },
   "outputs": [],
   "source": [
    "mask = y_train[100, :, :, 0]\n",
    "up, down = borders(mask)\n",
    "up_diff = np.diff(up)\n",
    "down_diff = np.diff(down)"
   ]
  },
  {
   "cell_type": "code",
   "execution_count": 85,
   "metadata": {
    "colab": {
     "base_uri": "https://localhost:8080/",
     "height": 34
    },
    "colab_type": "code",
    "executionInfo": {
     "elapsed": 608,
     "status": "ok",
     "timestamp": 1572113449942,
     "user": {
      "displayName": "Руслан Рашитович Юсупов",
      "photoUrl": "",
      "userId": "11159266420877563441"
     },
     "user_tz": -180
    },
    "id": "loD8WlOqQ1iI",
    "outputId": "a8acee82-9bf7-4e9d-cf4f-781690675eaa"
   },
   "outputs": [
    {
     "data": {
      "text/plain": [
       "(1.0, 1.0)"
      ]
     },
     "execution_count": 85,
     "metadata": {
      "tags": []
     },
     "output_type": "execute_result"
    }
   ],
   "source": [
    "np.abs(up_diff).max(), np.abs(down_diff).max()"
   ]
  },
  {
   "cell_type": "code",
   "execution_count": 69,
   "metadata": {
    "colab": {
     "base_uri": "https://localhost:8080/",
     "height": 34
    },
    "colab_type": "code",
    "executionInfo": {
     "elapsed": 587,
     "status": "ok",
     "timestamp": 1572113020967,
     "user": {
      "displayName": "Руслан Рашитович Юсупов",
      "photoUrl": "",
      "userId": "11159266420877563441"
     },
     "user_tz": -180
    },
    "id": "G6g0sjYyPNkE",
    "outputId": "4d8f0ab3-ded0-440c-f2b6-d46eb0860c9a"
   },
   "outputs": [
    {
     "data": {
      "text/plain": [
       "((384,), (383,))"
      ]
     },
     "execution_count": 69,
     "metadata": {
      "tags": []
     },
     "output_type": "execute_result"
    }
   ],
   "source": [
    "up.shape, up_diff.shape"
   ]
  },
  {
   "cell_type": "code",
   "execution_count": 0,
   "metadata": {
    "colab": {},
    "colab_type": "code",
    "id": "L7XsgnK0CRps"
   },
   "outputs": [],
   "source": [
    "deriv_lim = 0.82"
   ]
  },
  {
   "cell_type": "code",
   "execution_count": 54,
   "metadata": {
    "colab": {
     "base_uri": "https://localhost:8080/",
     "height": 187
    },
    "colab_type": "code",
    "executionInfo": {
     "elapsed": 584,
     "status": "ok",
     "timestamp": 1572110738009,
     "user": {
      "displayName": "Руслан Рашитович Юсупов",
      "photoUrl": "",
      "userId": "11159266420877563441"
     },
     "user_tz": -180
    },
    "id": "pEODgVKhGPBF",
    "outputId": "80be5581-9e68-4f2c-a50f-dc211bb09ebf"
   },
   "outputs": [
    {
     "data": {
      "text/plain": [
       "array([ 0.70934184, -0.30060346, -0.62289765,  0.80475692, -0.41402327,\n",
       "        0.4275305 , -0.44658064, -0.78392148, -0.0843713 ,  0.16516378,\n",
       "       -0.55558973, -0.24512217, -0.3900121 , -0.1789993 ,  0.09552511,\n",
       "        0.58464004,  0.19263735,  0.58695389, -0.06944132, -0.54355803,\n",
       "       -0.00733308,  0.55184459, -0.1627649 , -0.17767212,  0.3084913 ,\n",
       "       -0.07231743, -0.39103949, -0.71569818, -0.18114469, -0.1570025 ,\n",
       "       -0.64846069,  0.52252455,  0.46700773, -0.61121617, -0.57136991,\n",
       "        0.04707541, -0.65009192,  0.08578851, -0.61952049,  0.70996431,\n",
       "       -0.68078398,  0.47708922, -0.50634214,  0.09107166, -0.10342264,\n",
       "       -0.4492344 , -0.80116951,  0.63851165,  0.42475592,  0.09528515])"
      ]
     },
     "execution_count": 54,
     "metadata": {
      "tags": []
     },
     "output_type": "execute_result"
    }
   ],
   "source": [
    "shift = (np.random.rand(width) * 2 - 1) * deriv_lim"
   ]
  },
  {
   "cell_type": "code",
   "execution_count": 0,
   "metadata": {
    "colab": {},
    "colab_type": "code",
    "id": "whnbEOYsBB1Q"
   },
   "outputs": [],
   "source": [
    "for i in range(10000):\n",
    "  left = np.random.randint(0, cols - lim_down)\n",
    "  width = np.random.randint(0, min(lim_up - lim_down, cols - left - lim_down)) + lim_down\n",
    "  assert(left + width < cols)\n",
    "  assert(lim_down <= width < lim_up)"
   ]
  },
  {
   "cell_type": "code",
   "execution_count": 46,
   "metadata": {
    "colab": {
     "base_uri": "https://localhost:8080/",
     "height": 34
    },
    "colab_type": "code",
    "executionInfo": {
     "elapsed": 592,
     "status": "ok",
     "timestamp": 1572110315726,
     "user": {
      "displayName": "Руслан Рашитович Юсупов",
      "photoUrl": "",
      "userId": "11159266420877563441"
     },
     "user_tz": -180
    },
    "id": "CcX3cKNUEixJ",
    "outputId": "bc827f65-fb0b-442c-f0b8-27d99f047799"
   },
   "outputs": [
    {
     "data": {
      "text/plain": [
       "(173, 67)"
      ]
     },
     "execution_count": 46,
     "metadata": {
      "tags": []
     },
     "output_type": "execute_result"
    }
   ],
   "source": [
    "left, width"
   ]
  },
  {
   "cell_type": "code",
   "execution_count": 81,
   "metadata": {
    "colab": {
     "base_uri": "https://localhost:8080/",
     "height": 483
    },
    "colab_type": "code",
    "executionInfo": {
     "elapsed": 890,
     "status": "ok",
     "timestamp": 1572113126984,
     "user": {
      "displayName": "Руслан Рашитович Юсупов",
      "photoUrl": "",
      "userId": "11159266420877563441"
     },
     "user_tz": -180
    },
    "id": "_TJqFfzyAc4W",
    "outputId": "bb236b4f-2f98-41fd-bf34-426620cea777"
   },
   "outputs": [
    {
     "data": {
      "image/png": "[encoded data removed]",
      "text/plain": [
       "<Figure size 576x576 with 1 Axes>"
      ]
     },
     "metadata": {
      "tags": []
     },
     "output_type": "display_data"
    }
   ],
   "source": [
    "plt.figure(figsize=(8, 8))\n",
    "#plt.imshow(mask)\n",
    "plt.plot(up)\n",
    "plt.plot(down)\n",
    "plt.show()\n",
    "plt.close()"
   ]
  }
 ],
 "metadata": {
  "colab": {
   "name": "augm.ipynb",
   "provenance": []
  },
  "kernelspec": {
   "display_name": "Python 3",
   "language": "python",
   "name": "python3"
  },
  "language_info": {
   "codemirror_mode": {
    "name": "ipython",
    "version": 3
   },
   "file_extension": ".py",
   "mimetype": "text/x-python",
   "name": "python",
   "nbconvert_exporter": "python",
   "pygments_lexer": "ipython3",
   "version": "3.6.5"
  }
 },
 "nbformat": 4,
 "nbformat_minor": 1
}
