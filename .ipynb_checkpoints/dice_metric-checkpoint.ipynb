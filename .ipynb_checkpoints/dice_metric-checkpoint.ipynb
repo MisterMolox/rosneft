{
 "cells": [
  {
   "cell_type": "code",
   "execution_count": null,
   "metadata": {},
   "outputs": [],
   "source": [
    "def dice(y_true, y_pred):                                  # Метрика сходства двух изображений\n",
    "    y_true_f = K.flatten(y_true)\n",
    "    y_pred_f = K.flatten(y_pred)\n",
    "    intersection = K.sum(y_true_f * y_pred_f)\n",
    "    return (2. * intersection + 1.0) / (K.sum(y_true_f) + K.sum(y_pred_f) + 1.0)\n",
    "\n",
    "def dice_border(y_true, y_pred):                          # Метрика сходства двух изображений по границе\n",
    "    return \n",
    "\n",
    "def dice_coef(y_true, y_pred):                            \n",
    "    return (dice(y_true, y_pred) + dice_border(y_true, y_pred)) /2 \n",
    "\n",
    "def dice_coef_loss(y_true, y_pred):                        # Функция потерь для минимизации\n",
    "    return -dice_coef(y_true, y_pred)"
   ]
  }
 ],
 "metadata": {
  "kernelspec": {
   "display_name": "Python 3",
   "language": "python",
   "name": "python3"
  },
  "language_info": {
   "codemirror_mode": {
    "name": "ipython",
    "version": 3
   },
   "file_extension": ".py",
   "mimetype": "text/x-python",
   "name": "python",
   "nbconvert_exporter": "python",
   "pygments_lexer": "ipython3",
   "version": "3.6.5"
  }
 },
 "nbformat": 4,
 "nbformat_minor": 2
}
