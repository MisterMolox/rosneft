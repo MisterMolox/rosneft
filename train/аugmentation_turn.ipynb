{
 "cells": [
  {
   "cell_type": "code",
   "execution_count": 6,
   "metadata": {},
   "outputs": [],
   "source": [
    "import numpy as np\n",
    "from PIL import Image\n",
    "from tqdm import tqdm\n",
    "from skimage.io import imsave\n",
    "import os "
   ]
  },
  {
   "cell_type": "code",
   "execution_count": 18,
   "metadata": {},
   "outputs": [
    {
     "name": "stderr",
     "output_type": "stream",
     "text": [
      "100%|████████████████████████████████████████| 512/512 [04:55<00:00,  1.73it/s]\n",
      "100%|████████████████████████████████████████| 384/384 [04:45<00:00,  1.34it/s]\n"
     ]
    }
   ],
   "source": [
    "path_1 = '/answer/'\n",
    "path_2 = '/images/'\n",
    "\n",
    "for i in tqdm(range(512)):\n",
    "    number = str(3160+i)\n",
    "    img_name = 'inline_' + number + '.png'\n",
    "    new_img_name = 'turninline_' + number + '.png'\n",
    "    img = np.array(Image.open(os.getcwd()+path_2 + img_name))\n",
    "    mask = []\n",
    "    border_mask = []\n",
    "    img = img[:, : : -1, :]\n",
    "    for layer in range(7):\n",
    "        \n",
    "        t = np.array(Image.open(os.getcwd() + path_1 + str(layer) + '/' + img_name))\n",
    "        t = t[:, : : -1]\n",
    "        mask.append(t)\n",
    "        \n",
    "        t = np.array(Image.open(os.getcwd() + path_1 + str(layer) + '_border/' + img_name))\n",
    "        t = t[:, : : -1]\n",
    "        border_mask.append(t)\n",
    "    \n",
    "    for layer in range(7):\n",
    "        imsave(os.getcwd() + path_1 + str(layer) + '/' + new_img_name, mask[layer])\n",
    "    for layer in range(7):\n",
    "        imsave(os.getcwd() + path_1 + str(layer) + '_border/'+ new_img_name, border_mask[layer])\n",
    "        \n",
    "    imsave(os.getcwd() + path_2 + new_img_name, img)\n",
    "    \n",
    "    \n",
    "for i in tqdm(range(384)):\n",
    "    number = str(2017+i)\n",
    "    img_name = 'xline_' + number + '.png'\n",
    "    new_img_name = 'turnxline_' + number + '.png'\n",
    "    \n",
    "    img = np.array(Image.open(os.getcwd()+path_2 + img_name))\n",
    "    mask = []\n",
    "    border_mask = []\n",
    "    img = img[:, : : -1, :]\n",
    "    for layer in range(7):\n",
    "        \n",
    "        t = np.array(Image.open(os.getcwd() + path_1 + str(layer) + '/' + img_name))\n",
    "        t = t[:, : : -1]\n",
    "        mask.append(t)\n",
    "        \n",
    "        t = np.array(Image.open(os.getcwd() + path_1 + str(layer) + '_border/' + img_name))\n",
    "        t = t[:, : : -1]\n",
    "        border_mask.append(t)\n",
    "    \n",
    "    for layer in range(7):\n",
    "        imsave(os.getcwd() + path_1 + str(layer) + '/' + new_img_name, mask[layer])\n",
    "    for layer in range(7):\n",
    "        imsave(os.getcwd() + path_1 + str(layer) + '_border/'+ new_img_name, border_mask[layer])\n",
    "        \n",
    "    imsave(os.getcwd() + path_2 + new_img_name, img)"
   ]
  }
 ],
 "metadata": {
  "kernelspec": {
   "display_name": "Python 3",
   "language": "python",
   "name": "python3"
  },
  "language_info": {
   "codemirror_mode": {
    "name": "ipython",
    "version": 3
   },
   "file_extension": ".py",
   "mimetype": "text/x-python",
   "name": "python",
   "nbconvert_exporter": "python",
   "pygments_lexer": "ipython3",
   "version": "3.6.5"
  }
 },
 "nbformat": 4,
 "nbformat_minor": 2
}
