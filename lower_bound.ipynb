{
 "cells": [
  {
   "cell_type": "code",
   "execution_count": 4,
   "metadata": {},
   "outputs": [
    {
     "name": "stderr",
     "output_type": "stream",
     "text": [
      "100%|████████████████████████████████████████| 384/384 [05:05<00:00,  1.26it/s]\n",
      "100%|████████████████████████████████████████| 512/512 [05:10<00:00,  1.65it/s]\n"
     ]
    }
   ],
   "source": [
    "import numpy as np\n",
    "from PIL import Image\n",
    "from tqdm import tqdm\n",
    "\n",
    "max_all = 0\n",
    "\n",
    "for k in tqdm(range(384)):\n",
    "    number = str(k+2017)\n",
    "    img_name = 'xline_' + number + '.png'\n",
    "    path = 'train/answer/6_border/' + img_name\n",
    "    img = np.array(Image.open(path))\n",
    "    for j in range(512):\n",
    "        for i in range(384):\n",
    "            if img[i][j] == 255: \n",
    "                if i>max_all: \n",
    "                    max_all = i\n",
    "                    \n",
    "for k in tqdm(range(512)):\n",
    "    number = str(k+3160)\n",
    "    img_name = 'inline_' + number + '.png'\n",
    "    path = 'train/answer/6_border/' + img_name\n",
    "    img = np.array(Image.open(path))\n",
    "    for j in range(384):\n",
    "        for i in range(384):\n",
    "            if img[i][j] == 255: \n",
    "                if i>max_all: \n",
    "                    max_all = i"
   ]
  },
  {
   "cell_type": "code",
   "execution_count": 5,
   "metadata": {},
   "outputs": [
    {
     "data": {
      "text/plain": [
       "280"
      ]
     },
     "execution_count": 5,
     "metadata": {},
     "output_type": "execute_result"
    }
   ],
   "source": [
    "max_all"
   ]
  }
 ],
 "metadata": {
  "kernelspec": {
   "display_name": "Python 3",
   "language": "python",
   "name": "python3"
  },
  "language_info": {
   "codemirror_mode": {
    "name": "ipython",
    "version": 3
   },
   "file_extension": ".py",
   "mimetype": "text/x-python",
   "name": "python",
   "nbconvert_exporter": "python",
   "pygments_lexer": "ipython3",
   "version": "3.6.5"
  }
 },
 "nbformat": 4,
 "nbformat_minor": 2
}
